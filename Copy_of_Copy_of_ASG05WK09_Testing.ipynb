{
  "nbformat": 4,
  "nbformat_minor": 0,
  "metadata": {
    "colab": {
      "name": "Copy of Copy of ASG05WK09_Testing.ipynb",
      "provenance": [],
      "collapsed_sections": [],
      "toc_visible": true,
      "include_colab_link": true
    },
    "kernelspec": {
      "name": "python3",
      "display_name": "Python 3"
    },
    "language_info": {
      "name": "python"
    }
  },
  "cells": [
    {
      "cell_type": "markdown",
      "metadata": {
        "id": "view-in-github",
        "colab_type": "text"
      },
      "source": [
        "<a href=\"https://colab.research.google.com/github/DonorMozga/Alice/blob/master/Copy_of_Copy_of_ASG05WK09_Testing.ipynb\" target=\"_parent\"><img src=\"https://colab.research.google.com/assets/colab-badge.svg\" alt=\"Open In Colab\"/></a>"
      ]
    },
    {
      "cell_type": "markdown",
      "source": [
        "# Welcome to the fifth assignment of the semester!\n",
        "\n",
        "This week, we will practice with some concepts in Chapter 8. The focus is on testing code and debugging code.\n",
        "\n",
        "Please read the directions for each task below and respond.\n",
        "\n",
        "DO NOT change the name of the assignment.\n",
        "\n",
        "**When you are done**\n",
        "\n",
        "1.   Make sure your final version of the program is saved\n",
        "2.   Under the Menu, select Edit / Clear all outputs\n",
        "3.   Under the Menu, select Runtime / Restart and run all\n",
        "4.   Under the Menu, select File / Download / Download .ipynb\n",
        "5.   Upload your notebook to Blackboard / Assignments\n",
        "\n",
        "\n",
        "\n"
      ],
      "metadata": {
        "id": "IIt3BwjP4FlK"
      }
    },
    {
      "cell_type": "markdown",
      "source": [
        "**1. Take a look at: Figure 5-8 Some methods on strings (Section 5.5, p 109 in the physical copy). Focus on one of these methods but not count (I will use that es an example below). First, get help on the method.**"
      ],
      "metadata": {
        "id": "1l3TINIe579A"
      }
    },
    {
      "cell_type": "code",
      "source": [
        "s = 'some string'\n",
        "# My example: s.count so I will type: help(s.count)\n",
        "# Please use a different method than count\n",
        "help(s.count)  "
      ],
      "metadata": {
        "id": "iOm5kgYB5TA_"
      },
      "execution_count": null,
      "outputs": []
    },
    {
      "cell_type": "code",
      "source": [
        "s = \"qwertyuiopsdfghjklvbnm\"\n",
        "\n",
        "help(s.split)"
      ],
      "metadata": {
        "colab": {
          "base_uri": "https://localhost:8080/"
        },
        "id": "ILoqvwNBsHqL",
        "outputId": "cd77a535-266c-4341-e253-8ef038aa750f"
      },
      "execution_count": null,
      "outputs": [
        {
          "output_type": "stream",
          "name": "stdout",
          "text": [
            "Help on built-in function split:\n",
            "\n",
            "split(sep=None, maxsplit=-1) method of builtins.str instance\n",
            "    Return a list of the words in the string, using sep as the delimiter string.\n",
            "    \n",
            "    sep\n",
            "      The delimiter according which to split the string.\n",
            "      None (the default value) means split according to any whitespace,\n",
            "      and discard empty strings from the result.\n",
            "    maxsplit\n",
            "      Maximum number of splits to do.\n",
            "      -1 (the default value) means no limit.\n",
            "\n"
          ]
        }
      ]
    },
    {
      "cell_type": "markdown",
      "source": [
        "**2. Your goal is to test this method using a few different strings. Does it work when the string is empty? short? long? Come up with 5 different strings to test the method with. My tests are on the count method. Yours will be a different method. Think about a variety of strings that will see if the code 'cracks' under normal and unexpected conditions.**\n",
        "\n",
        "\n",
        "```\n",
        "# Test #1: Normal situation: substring exists in the string \n",
        "s = 'some string'\n",
        "print(s.count('s')\n",
        "```\n",
        "\n"
      ],
      "metadata": {
        "id": "2V9AzwWi6RGD"
      }
    },
    {
      "cell_type": "code",
      "source": [
        "# Test #1: split\n",
        "s = \"sdfghjb daskosdjvbdfknv\"\n",
        "print(s.split())\n",
        "# Test #2: split\n",
        "s = \"poppfpn\"\n",
        "print(s.split(\"p\"))\n",
        "# Test #3: split\n",
        "s = \"sss\"\n",
        "print(s.split(\" \"))\n",
        "# Test #4: split\n",
        "s = \"123\"\n",
        "print(s.split(\"123\"))\n",
        "# Test #5: split\n",
        "s = \"\"\n",
        "print(s.split(\"0\"))"
      ],
      "metadata": {
        "id": "k59Zm3WZ7PZP",
        "colab": {
          "base_uri": "https://localhost:8080/"
        },
        "outputId": "4859118a-6a5a-4348-cbf0-5ac5b7cc8160"
      },
      "execution_count": null,
      "outputs": [
        {
          "output_type": "stream",
          "name": "stdout",
          "text": [
            "['sdfghjb', 'daskosdjvbdfknv']\n",
            "['', 'o', '', 'f', 'n']\n",
            "['sss']\n",
            "['', '']\n",
            "['']\n"
          ]
        }
      ]
    },
    {
      "cell_type": "markdown",
      "source": [
        "**3. Create a text cell below and explain your testing strategy. What were you trying to accomplish? How did you decide on your test strings?**"
      ],
      "metadata": {
        "id": "KvURQjm66zMt"
      }
    },
    {
      "cell_type": "markdown",
      "source": [
        "I have chosen a split strategy, because it seemed to me the best choice for testing. In the first string I did not input anything. It was simply interesting to see, what happens, if there is nothing in the string. Result- nothing happened.\n",
        "In the second string I used \"p\" as a separator in the ransom str.\n",
        "In the third str I used 'empty space' to see, what method will do, when there will be a split in non-existing symbol.\n",
        "In the forth str I wanted to see what happens, if sep and str will be identical. \n",
        "I the fifth string I wanted to see, what happens if the length of sep will be longer than the str.\n",
        "I picked the split strategy, because it was the first one on my list.\n"
      ],
      "metadata": {
        "id": "W4H7D2P_ubDC"
      }
    },
    {
      "cell_type": "markdown",
      "source": [
        "**4. The function below counts the number of occurences of a substring in a string. It may or may not work properly. Call it using three scenarios:**\n",
        "\n",
        "1.   Substring exists once in the string\n",
        "2.   Substring exists more than once in the string\n",
        "3.   Substring doesn't exist in the string\n",
        "\n",
        "Then in create a text cell below and explain what you found. If you found a bug, suggest a code revision that will fix it.\n",
        "\n"
      ],
      "metadata": {
        "id": "bDdQ3Qtj7M5P"
      }
    },
    {
      "cell_type": "code",
      "source": [
        "def countSubstr(subs, string):\n",
        "  cnt = 0\n",
        "  if string.count('subs') == 0:\n",
        "    cnt = string.count('subs') + 1\n",
        "  else:\n",
        "    cnt = string.count('subs')\n",
        "  return(cnt)\n",
        "\n",
        "print(countSubstr(\"123\", \"123\")) # Substring exists once in the string\n",
        "print(countSubstr(\"1\", \"31121\")) # Substring exists more than once in the string\n",
        "print(countSubstr(\"2\", \"3333\")) # Substring doesn't exist in the string"
      ],
      "metadata": {
        "id": "gxpZAYWUALWw",
        "colab": {
          "base_uri": "https://localhost:8080/"
        },
        "outputId": "071ffbb6-b8bf-4f2d-c685-577641b4c3f8"
      },
      "execution_count": null,
      "outputs": [
        {
          "output_type": "stream",
          "name": "stdout",
          "text": [
            "1\n",
            "1\n",
            "1\n"
          ]
        }
      ]
    },
    {
      "cell_type": "markdown",
      "source": [
        ""
      ],
      "metadata": {
        "id": "_K8Q4qgI4ljw"
      }
    },
    {
      "cell_type": "markdown",
      "source": [
        "**5. If you found a bug in countSubstr, correct the function below so it works properly**"
      ],
      "metadata": {
        "id": "o4TFaKUE_zwW"
      }
    },
    {
      "cell_type": "code",
      "source": [
        "def countSubstr(subs, string):\n",
        "  cnt = 0\n",
        "  if string.count(subs) == 0:\n",
        "    cnt = string.count(subs) + 1\n",
        "  else:\n",
        "    cnt = string.count(subs)\n",
        "  return(cnt)\n",
        "\n",
        "print(countSubstr(\"123\", \"123\")) # Substring exists once in the string\n",
        "print(countSubstr(\"1\", \"31121\")) # Substring exists more than once in the string\n",
        "print(countSubstr(\"2\", \"3333\")) # Substring doesn't exist in the string"
      ],
      "metadata": {
        "id": "9FahYug8DGVq",
        "colab": {
          "base_uri": "https://localhost:8080/"
        },
        "outputId": "b8c031c9-6da7-4940-caf7-e2e317639699"
      },
      "execution_count": null,
      "outputs": [
        {
          "output_type": "stream",
          "name": "stdout",
          "text": [
            "1\n",
            "3\n",
            "1\n"
          ]
        }
      ]
    },
    {
      "cell_type": "markdown",
      "source": [
        "In the 3d, 4th and 6th str ther were colons, I got rid of them to make sure, that the code works properly."
      ],
      "metadata": {
        "id": "qWYOqey_5w66"
      }
    },
    {
      "cell_type": "markdown",
      "source": [
        "**You are done! Follow the instructions at the top of the notebook and submit your assignment.**"
      ],
      "metadata": {
        "id": "PCnJT8VUAcHt"
      }
    }
  ]
}